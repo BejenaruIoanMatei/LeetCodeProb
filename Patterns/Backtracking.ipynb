{
 "cells": [
  {
   "cell_type": "code",
   "execution_count": null,
   "metadata": {},
   "outputs": [],
   "source": [
    "# Combinatorial problems (combinations, permutations, subsets)\n",
    "# Constraint satisfaction (Sudoku, N-Queens\n",
    "# Prune path using constraints to reduce search space"
   ]
  },
  {
   "cell_type": "code",
   "execution_count": null,
   "metadata": {},
   "outputs": [],
   "source": [
    "# Template\n",
    "\n",
    "def is_solution(path):\n",
    "    return\n",
    "\n",
    "def process_solution(path):\n",
    "    return \n",
    "\n",
    "def is_valid(path):\n",
    "    return\n",
    "\n",
    "def backtrack(candidates, curPath):\n",
    "    # Base case: Check if the solution meets the problem's criteria\n",
    "    if is_solution(curPath):\n",
    "        process_solution(curPath)\n",
    "        return \n",
    "\n",
    "    for candidate in candidates:\n",
    "        if is_valid(candidate, curPath):\n",
    "            # Take the current candidate\n",
    "            curPath.append(candidate)\n",
    "            # Recurse to explore further solutions\n",
    "            backtrack(candidates, curPath)\n",
    "            # Undo the choice (backtrack)\n",
    "            curPath.pop()"
   ]
  },
  {
   "cell_type": "code",
   "execution_count": 5,
   "metadata": {},
   "outputs": [
    {
     "name": "stdout",
     "output_type": "stream",
     "text": [
      "[[], [], [], [], [], [], [], []]\n"
     ]
    }
   ],
   "source": [
    "class Solution(object):\n",
    "    def subsets(self, nums):\n",
    "        res = []\n",
    "        subset = []\n",
    "        \n",
    "        # [1, 2, 3] -> i = 0, i = 1 ...\n",
    "        def dfs(i):\n",
    "            if i == len(nums):\n",
    "                res.append(subset.copy())\n",
    "                return\n",
    "\n",
    "            # daca iau elementul\n",
    "            subset.append(nums[i])\n",
    "            dfs(i + 1)\n",
    "            \n",
    "            # daca nu iau elementul\n",
    "            subset.pop()\n",
    "            dfs(i + 1)\n",
    "        \n",
    "        dfs(0)\n",
    "        return res\n",
    "\n",
    "nums = [1, 2, 3]\n",
    "print(Solution().subsets(nums))\n"
   ]
  }
 ],
 "metadata": {
  "kernelspec": {
   "display_name": "Python 3",
   "language": "python",
   "name": "python3"
  },
  "language_info": {
   "codemirror_mode": {
    "name": "ipython",
    "version": 3
   },
   "file_extension": ".py",
   "mimetype": "text/x-python",
   "name": "python",
   "nbconvert_exporter": "python",
   "pygments_lexer": "ipython3",
   "version": "3.12.6"
  },
  "orig_nbformat": 4
 },
 "nbformat": 4,
 "nbformat_minor": 2
}

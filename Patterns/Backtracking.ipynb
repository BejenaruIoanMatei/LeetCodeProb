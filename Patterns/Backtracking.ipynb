{
 "cells": [
  {
   "cell_type": "code",
   "execution_count": null,
   "metadata": {},
   "outputs": [],
   "source": [
    "# Combinatorial problems (combinations, permutations, subsets)\n",
    "# Constraint satisfaction (Sudoku, N-Queens\n",
    "# Prune path using constraints to reduce search space"
   ]
  },
  {
   "cell_type": "code",
   "execution_count": null,
   "metadata": {},
   "outputs": [],
   "source": [
    "# Template\n",
    "\n",
    "def is_solution(path):\n",
    "    return\n",
    "\n",
    "def process_solution(path):\n",
    "    return \n",
    "\n",
    "def is_valid(path):\n",
    "    return\n",
    "\n",
    "def backtrack(candidates, curPath):\n",
    "    # Base case: Check if the solution meets the problem's criteria\n",
    "    if is_solution(curPath):\n",
    "        process_solution(curPath)\n",
    "        return \n",
    "\n",
    "    for candidate in candidates:\n",
    "        if is_valid(candidate, curPath):\n",
    "            # Take the current candidate\n",
    "            curPath.append(candidate)\n",
    "            # Recurse to explore further solutions\n",
    "            backtrack(candidates, curPath)\n",
    "            # Undo the choice (backtrack)\n",
    "            curPath.pop()"
   ]
  },
  {
   "cell_type": "code",
   "execution_count": 6,
   "metadata": {},
   "outputs": [
    {
     "name": "stdout",
     "output_type": "stream",
     "text": [
      "[[1, 2, 3], [1, 2], [1, 3], [1], [2, 3], [2], [3], []]\n"
     ]
    }
   ],
   "source": [
    "# 78. Subsets\n",
    "\n",
    "class Solution(object):\n",
    "    def subsets(self, nums):\n",
    "        res = []\n",
    "        subset = []\n",
    "        \n",
    "        # [1, 2, 3] -> i = 0, i = 1 ...\n",
    "        def dfs(i):\n",
    "            if i == len(nums):\n",
    "                res.append(subset.copy())\n",
    "                return\n",
    "\n",
    "            # daca iau elementul\n",
    "            subset.append(nums[i])\n",
    "            dfs(i + 1)\n",
    "            \n",
    "            # daca nu iau elementul\n",
    "            subset.pop()\n",
    "            dfs(i + 1)\n",
    "        \n",
    "        dfs(0)\n",
    "        return res\n",
    "\n",
    "nums = [1, 2, 3]\n",
    "print(Solution().subsets(nums))\n"
   ]
  },
  {
   "cell_type": "code",
   "execution_count": 10,
   "metadata": {},
   "outputs": [
    {
     "name": "stdout",
     "output_type": "stream",
     "text": [
      "perms = [[]]\n",
      "res = [[3]]\n",
      "perms = [[3]]\n",
      "res = [[2, 3], [3, 2]]\n",
      "perms = [[2, 3], [3, 2]]\n",
      "res = [[1, 2, 3], [2, 1, 3], [2, 3, 1], [1, 3, 2], [3, 1, 2], [3, 2, 1]]\n",
      "[[1, 2, 3], [2, 1, 3], [2, 3, 1], [1, 3, 2], [3, 1, 2], [3, 2, 1]]\n"
     ]
    }
   ],
   "source": [
    "# 46. Permutations\n",
    "\n",
    "def permute(nums):\n",
    "    if not len(nums):\n",
    "        return [[]]\n",
    "    \n",
    "    perms = permute(nums[1:])\n",
    "    print(f\"perms = {perms}\")\n",
    "    res = []\n",
    "    for p in perms:\n",
    "        for i in range(len(p)+1):\n",
    "            p_copy = p[:]\n",
    "            p_copy.insert(i, nums[0])\n",
    "            res.append(p_copy)\n",
    "    print(f\"res = {res}\")\n",
    "    return res\n",
    "\n",
    "\n",
    "nums = [1,2,3]        \n",
    "print(permute(nums))\n",
    "        "
   ]
  }
 ],
 "metadata": {
  "kernelspec": {
   "display_name": "Python 3",
   "language": "python",
   "name": "python3"
  },
  "language_info": {
   "codemirror_mode": {
    "name": "ipython",
    "version": 3
   },
   "file_extension": ".py",
   "mimetype": "text/x-python",
   "name": "python",
   "nbconvert_exporter": "python",
   "pygments_lexer": "ipython3",
   "version": "3.12.6"
  },
  "orig_nbformat": 4
 },
 "nbformat": 4,
 "nbformat_minor": 2
}

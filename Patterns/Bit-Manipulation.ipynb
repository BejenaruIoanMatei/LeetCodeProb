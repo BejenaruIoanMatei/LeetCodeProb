{
 "cells": [
  {
   "cell_type": "markdown",
   "metadata": {},
   "source": [
    "When to use it?\n",
    "\n",
    "- Count number of 0 or 1 bits in a number\n",
    "\n",
    "- Add numbers without using addition or substraction\n",
    "\n",
    "- Find a missing number in a list\n",
    "\n"
   ]
  },
  {
   "cell_type": "code",
   "execution_count": 2,
   "metadata": {},
   "outputs": [],
   "source": [
    "\"\"\"\n",
    "Useful bitwise operators for LeetCode\n",
    "\"\"\"\n",
    "def binary_operators():\n",
    "    return {\n",
    "        \"AND\": a & b,\n",
    "        \"OR\": a | b,\n",
    "        \"XOR\": a ^ b,\n",
    "        \"NOT\": ~a, # ~a = -a-1 in python\n",
    "        \"Left Shift (a << b)\": a << b,  # left shift 'a' by 'b' bits\n",
    "        \"Right Shift (a >> b)\": a >> b,  # right shift 'a' by 'b' bits\n",
    "        \"Mask\": a & 1 # gives you the least significant bit of a\n",
    "    }"
   ]
  },
  {
   "cell_type": "code",
   "execution_count": 3,
   "metadata": {},
   "outputs": [
    {
     "name": "stdout",
     "output_type": "stream",
     "text": [
      "30\n"
     ]
    }
   ],
   "source": [
    "# 191 Number of 1 Bits\n",
    "\n",
    "def hammingWeight(n):\n",
    "    count = 0\n",
    "    for i in range(32):\n",
    "        if (n >> i) & 1:\n",
    "            count += 1\n",
    "    return count\n",
    "\n",
    "n = 2147483645\n",
    "print(hammingWeight(n))"
   ]
  },
  {
   "cell_type": "code",
   "execution_count": 8,
   "metadata": {},
   "outputs": [
    {
     "name": "stdout",
     "output_type": "stream",
     "text": [
      "964176192\n"
     ]
    }
   ],
   "source": [
    "# 190. Reverse Bits\n",
    "\n",
    "# 1011 -> 1101\n",
    "\n",
    "def reverseBits(n):\n",
    "    res = 0\n",
    "    for _ in range(32):\n",
    "        res = (res << 1) + (n & 1)\n",
    "        n = n >> 1\n",
    "    return res\n",
    "\n",
    "n = 43261596\n",
    "print(reverseBits(n))"
   ]
  },
  {
   "cell_type": "code",
   "execution_count": 16,
   "metadata": {},
   "outputs": [
    {
     "name": "stdout",
     "output_type": "stream",
     "text": [
      "2\n",
      "2\n"
     ]
    }
   ],
   "source": [
    "# 268. Missing Number\n",
    "\n",
    "def missing(nums):\n",
    "    n = len(nums)\n",
    "    sumaG = n * (n+1) // 2\n",
    "    sumaN = sum(nums)\n",
    "    return sumaG - sumaN\n",
    "\n",
    "nums = [3, 0, 1]\n",
    "print(missing(nums))\n",
    "\n",
    "def missingXOR(nums):\n",
    "    res = 0\n",
    "    \n",
    "    for k, number in enumerate(nums):\n",
    "        res = res ^ k + 1\n",
    "        res = res ^ number\n",
    "        \n",
    "    return res\n",
    "\n",
    "print(missingXOR(nums))"
   ]
  },
  {
   "cell_type": "code",
   "execution_count": null,
   "metadata": {},
   "outputs": [],
   "source": [
    "# 371. Sum of Two Integers\n",
    "\n",
    "# 0100\n",
    "# 0001\n",
    "# 0101\n",
    "\n",
    "# XOR for sum\n",
    "# AND for carry\n",
    "\n",
    "def sumof(a,b):\n",
    "    mask = 0xFFFFFFFF # 32 de 1 : 1111111..111\n",
    "    while b != 0:\n",
    "        s = (a ^ b) & mask\n",
    "        carry = (a & b) & mask\n",
    "        a = s\n",
    "        b = carry << 1\n",
    "\n",
    "    return a\n",
    "    \n",
    "\n",
    "print(sumof(-1,4))"
   ]
  }
 ],
 "metadata": {
  "kernelspec": {
   "display_name": "Python 3",
   "language": "python",
   "name": "python3"
  },
  "language_info": {
   "codemirror_mode": {
    "name": "ipython",
    "version": 3
   },
   "file_extension": ".py",
   "mimetype": "text/x-python",
   "name": "python",
   "nbconvert_exporter": "python",
   "pygments_lexer": "ipython3",
   "version": "3.12.6"
  },
  "orig_nbformat": 4
 },
 "nbformat": 4,
 "nbformat_minor": 2
}

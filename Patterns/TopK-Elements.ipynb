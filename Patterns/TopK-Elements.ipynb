{
 "cells": [
  {
   "cell_type": "code",
   "execution_count": null,
   "metadata": {},
   "outputs": [],
   "source": [
    "# Find top k smallest/largest\n",
    "# Find the kth smallest/largest\n",
    "# Find the k most frequent elements"
   ]
  },
  {
   "cell_type": "code",
   "execution_count": 3,
   "metadata": {},
   "outputs": [],
   "source": [
    "# Template\n",
    "\n",
    "import heapq\n",
    "\n",
    "def top_k_smallest_elements(arr, k):\n",
    "    if k <= 0 or not arr:\n",
    "        return []\n",
    "    \n",
    "    # Use a max heap to maintain the k smallest elements\n",
    "    max_heap = []\n",
    "    for num in arr:\n",
    "        # Python does not have a maxHeap, only minHeap\n",
    "        # Therefore, negate the num to simulate a max heap\n",
    "        heapq.heappush(max_heap, -num)\n",
    "        if len(max_heap) > k:\n",
    "            heapq.heappop(max_heap)\n",
    "    \n",
    "    return [-x for x in max_heap]\n",
    "\n",
    "def top_k_largest_elements(arr, k):\n",
    "    if k <= 0 or not arr:\n",
    "        return []\n",
    "    \n",
    "    min_heap = []\n",
    "    for num in arr:\n",
    "        heapq.heappush(min_heap,num)\n",
    "        if len(min_heap) > k:\n",
    "            heapq.heappop(min_heap)\n",
    "    return min_heap"
   ]
  },
  {
   "cell_type": "code",
   "execution_count": 8,
   "metadata": {},
   "outputs": [
    {
     "name": "stdout",
     "output_type": "stream",
     "text": [
      "5\n"
     ]
    }
   ],
   "source": [
    "# 215. K th Largest element in an array\n",
    "\n",
    "def findKthLargest(nums, k):\n",
    "    if not nums:\n",
    "        return None\n",
    "    \n",
    "    min_heap = []\n",
    "    for num in nums:\n",
    "        heapq.heappush(min_heap,num)\n",
    "        if len(min_heap) > k:\n",
    "            heapq.heappop(min_heap)\n",
    "    \n",
    "    return min_heap[0]\n",
    "\n",
    "nums = [3,2,1,5,6,4]\n",
    "k = 2\n",
    "\n",
    "print(findKthLargest(nums, k))   "
   ]
  },
  {
   "cell_type": "code",
   "execution_count": 13,
   "metadata": {},
   "outputs": [
    {
     "name": "stdout",
     "output_type": "stream",
     "text": [
      "[2, 1]\n"
     ]
    }
   ],
   "source": [
    "# 347. Top K Frequent Elements\n",
    "\n",
    "def topKfrequent(nums, k):\n",
    "    f = {}\n",
    "    for num in nums:\n",
    "        if num in f:\n",
    "            f[num] += 1\n",
    "        else:\n",
    "            f[num] = 1\n",
    "    \n",
    "    min_heap = []\n",
    "    for num, freq in f.items():\n",
    "        heapq.heappush(min_heap,(freq,num))\n",
    "        if len(min_heap) > k:\n",
    "            heapq.heappop(min_heap)\n",
    "    \n",
    "    return [num for _, num in min_heap]\n",
    "        \n",
    "\n",
    "arr = [1,1,1,2,2,3]\n",
    "k = 2\n",
    "print(topKfrequent(arr,2))"
   ]
  }
 ],
 "metadata": {
  "kernelspec": {
   "display_name": "Python 3",
   "language": "python",
   "name": "python3"
  },
  "language_info": {
   "codemirror_mode": {
    "name": "ipython",
    "version": 3
   },
   "file_extension": ".py",
   "mimetype": "text/x-python",
   "name": "python",
   "nbconvert_exporter": "python",
   "pygments_lexer": "ipython3",
   "version": "3.12.6"
  },
  "orig_nbformat": 4
 },
 "nbformat": 4,
 "nbformat_minor": 2
}

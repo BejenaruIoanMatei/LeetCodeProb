{
 "cells": [
  {
   "cell_type": "code",
   "execution_count": null,
   "metadata": {},
   "outputs": [],
   "source": [
    "# template\n",
    "\n",
    "def two_pointer(input):\n",
    "    # Initialize pointers\n",
    "    i = 0 \n",
    "    j = len(input) - 1\n",
    "    result = None\n",
    "    \n",
    "    # Iterate while pointers do not cross\n",
    "    while i < j:\n",
    "        # Process the elements at both pointers\n",
    "        # Adjust the pointers basedd on specific conditions\n",
    "        # Break or continue\n",
    "        i += 1\n",
    "        j -= 1\n",
    "    \n",
    "    # Return the final result or process output\n",
    "    return result"
   ]
  },
  {
   "cell_type": "code",
   "execution_count": 10,
   "metadata": {},
   "outputs": [
    {
     "name": "stdout",
     "output_type": "stream",
     "text": [
      "True\n"
     ]
    }
   ],
   "source": [
    "# 125. Valid Palindrome\n",
    "\n",
    "def valid_palindrome(s):\n",
    "    word = ''.join(c for c in s if c.isalnum()).lower()\n",
    "    \n",
    "    i = 0\n",
    "    j = len(word) - 1\n",
    "    \n",
    "    while i < j:\n",
    "        if word[i] != word[j]:\n",
    "            return False\n",
    "        else:\n",
    "            i += 1\n",
    "            j -= 1\n",
    "        \n",
    "    return True\n",
    "\n",
    "text = \"A man, a plan, a canal: Panama\"\n",
    "print(valid_palindrome(text))"
   ]
  },
  {
   "cell_type": "code",
   "execution_count": 22,
   "metadata": {},
   "outputs": [
    {
     "name": "stdout",
     "output_type": "stream",
     "text": [
      "[-1, 1, 2, 2, 3, 4, 5]\n",
      "6\n"
     ]
    },
    {
     "data": {
      "text/plain": [
       "(2, 6)"
      ]
     },
     "execution_count": 22,
     "metadata": {},
     "output_type": "execute_result"
    }
   ],
   "source": [
    "# two sum \n",
    "\n",
    "def two_sum(s, target):\n",
    "    new_list = sorted(s, key=lambda x: x)\n",
    "    print(new_list)\n",
    "    i = 0\n",
    "    j = len(new_list) - 1\n",
    "    print(j)\n",
    "     \n",
    "    while i < j:\n",
    "        if new_list[i] + new_list[j] == target:\n",
    "            return i, j\n",
    "        elif new_list[i] + new_list[j] < target:\n",
    "            i += 1\n",
    "        elif new_list[i] + new_list[j] > target:\n",
    "            j -= 1\n",
    "            \n",
    "    return None\n",
    "    \n",
    "s = [1, 2, -1, 3, 2, 5, 4]\n",
    "two_sum(s,7)\n",
    "\n",
    "# Obs -> se schimba indicii dupa sortare, nu vor fi aceeasi cu indicii initiali"
   ]
  },
  {
   "cell_type": "code",
   "execution_count": 23,
   "metadata": {},
   "outputs": [],
   "source": [
    "# cu HashMap\n",
    "\n",
    "def two_sum(s, target):\n",
    "    num_map = {} \n",
    "    for i, num in enumerate(s):\n",
    "        complement = target - num\n",
    "        \n",
    "        if complement in num_map:\n",
    "            return [num_map[complement],i]\n",
    "        \n",
    "        num_map[num] = i\n",
    "        \n",
    "    return []\n"
   ]
  }
 ],
 "metadata": {
  "kernelspec": {
   "display_name": "Python 3",
   "language": "python",
   "name": "python3"
  },
  "language_info": {
   "codemirror_mode": {
    "name": "ipython",
    "version": 3
   },
   "file_extension": ".py",
   "mimetype": "text/x-python",
   "name": "python",
   "nbconvert_exporter": "python",
   "pygments_lexer": "ipython3",
   "version": "3.12.6"
  },
  "orig_nbformat": 4
 },
 "nbformat": 4,
 "nbformat_minor": 2
}

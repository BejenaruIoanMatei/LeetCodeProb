{
 "cells": [
  {
   "cell_type": "markdown",
   "metadata": {},
   "source": [
    "When to use it?\n",
    "- Merge or consolidate ranges\n",
    "\n",
    "- Schedule or find conflicts (e.g. meeting rooms)\n",
    "\n",
    "- Find gaps or missing intervals\n",
    "\n"
   ]
  },
  {
   "cell_type": "code",
   "execution_count": 1,
   "metadata": {},
   "outputs": [],
   "source": [
    "\"\"\"\n",
    "Generic template for interval problems\n",
    "\"\"\"\n",
    "def process_intervals(intervals):\n",
    "    # Sort intervals by start time (common preprocessing step)\n",
    "    intervals.sort(key=lambda x: x[0])\n",
    "    \n",
    "    # Example: Merged intervals (modify as needed for your problem)\n",
    "    result = []\n",
    "    for interval in intervals:\n",
    "        # If result is empty or no overlap with the last interval in result\n",
    "        if not result or result[-1][1] < interval[0]:\n",
    "            result.append(interval)  # Add the interval as is\n",
    "        else:\n",
    "            # Merge overlapping intervals\n",
    "            result[-1][1] = max(result[-1][1], interval[1])\n",
    "    \n",
    "    return result"
   ]
  },
  {
   "cell_type": "code",
   "execution_count": 9,
   "metadata": {},
   "outputs": [
    {
     "name": "stdout",
     "output_type": "stream",
     "text": [
      "16\n",
      "[[1, 2], [3, 10], [12, 16]]\n"
     ]
    }
   ],
   "source": [
    "#57. Insert Interval\n",
    "\n",
    "def insertInterval(intervals, newInterval):\n",
    "    result = []\n",
    "    \n",
    "    i = 0\n",
    "    n = len(intervals)\n",
    "    \n",
    "    while i < n and intervals[i][1] < newInterval[0]:\n",
    "        result.append(intervals[i])\n",
    "        i += 1\n",
    "    \n",
    "    while i < n and intervals[i][0] <= newInterval[1]:\n",
    "        newInterval[0] = min(newInterval[0], intervals[i][0])\n",
    "        newInterval[1] = max(newInterval[1], intervals[i][1])\n",
    "        i += 1\n",
    "    \n",
    "    result.append(newInterval)\n",
    "    \n",
    "    while i < n:\n",
    "        result.append(intervals[i])\n",
    "        i += 1\n",
    "    \n",
    "    return result\n",
    "\n",
    "intervals = [[1,2],[3,5],[6,7],[8,10],[12,16]]\n",
    "print(intervals[-1][1])\n",
    "newInterval = [4,8]\n",
    "\n",
    "print(insertInterval(intervals, newInterval))\n",
    "    "
   ]
  }
 ],
 "metadata": {
  "kernelspec": {
   "display_name": "Python 3",
   "language": "python",
   "name": "python3"
  },
  "language_info": {
   "codemirror_mode": {
    "name": "ipython",
    "version": 3
   },
   "file_extension": ".py",
   "mimetype": "text/x-python",
   "name": "python",
   "nbconvert_exporter": "python",
   "pygments_lexer": "ipython3",
   "version": "3.12.6"
  },
  "orig_nbformat": 4
 },
 "nbformat": 4,
 "nbformat_minor": 2
}

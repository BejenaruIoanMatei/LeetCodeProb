{
 "cells": [
  {
   "cell_type": "code",
   "execution_count": null,
   "metadata": {},
   "outputs": [],
   "source": [
    "# Reverse a specific portion of a linked list\n",
    "# Reverse nodes in groups of k"
   ]
  },
  {
   "cell_type": "code",
   "execution_count": null,
   "metadata": {},
   "outputs": [],
   "source": [
    "# Template\n",
    "\n",
    "def reverse_linked_list(head):\n",
    "    prev = None\n",
    "    ptr = head\n",
    "    \n",
    "    while ptr:\n",
    "        # Save the next node\n",
    "        next_node = ptr.next\n",
    "        \n",
    "        # Reverse the current node's pointer\n",
    "        ptr.next = prev\n",
    "        \n",
    "        # Move the pointers one step forward \n",
    "        prev = ptr\n",
    "        ptr = next_node\n",
    "        \n",
    "    # prev is the new head after the loop ends\n",
    "    return prev\n"
   ]
  },
  {
   "cell_type": "code",
   "execution_count": null,
   "metadata": {},
   "outputs": [],
   "source": [
    "# 143. Reorder List\n",
    "\n",
    "# 1 -> 2 -> 3 -> 4\n",
    "# 4 -> 3 -> 2 -> 1\n",
    "# 1 -> 4 -> 2 -> 3\n",
    "\n",
    "# 1 -> mijlocul listei\n",
    "# 2 -> impartim in doua\n",
    "# 3 -> a doua jumatate inversata\n",
    "# 4 -> combinam jumatatile\n",
    "\n",
    "class ListNode(object):\n",
    "    def __init__(self,val=0,next=None):\n",
    "        self.val = val\n",
    "        self.next = None\n",
    "\n",
    "def reorder_list(head):\n",
    "    slow = head\n",
    "    fast = head\n",
    "    \n",
    "    while fast and fast.next:\n",
    "        slow = slow.next\n",
    "        fast = fast.next.next\n",
    "    \n",
    "    second_half = slow.next\n",
    "    slow.next = None\n",
    "    \n",
    "    prev = None\n",
    "    while second_half:\n",
    "        next_node = second_half.next\n",
    "        second_half.next = prev\n",
    "        prev = second_half\n",
    "        second_half = next_node\n",
    "        \n",
    "    # first = 1 -> 2\n",
    "    # second = 4 -> 3\n",
    "        \n",
    "    first = head\n",
    "    second = prev\n",
    "    while second:\n",
    "        aux1, aux2 = first.next, second.next\n",
    "        first.next = second\n",
    "        second.next = aux1\n",
    "        first, second = aux1, aux2\n",
    "    \n",
    "    return first  \n",
    "        "
   ]
  }
 ],
 "metadata": {
  "kernelspec": {
   "display_name": "Python 3",
   "language": "python",
   "name": "python3"
  },
  "language_info": {
   "codemirror_mode": {
    "name": "ipython",
    "version": 3
   },
   "file_extension": ".py",
   "mimetype": "text/x-python",
   "name": "python",
   "nbconvert_exporter": "python",
   "pygments_lexer": "ipython3",
   "version": "3.12.6"
  },
  "orig_nbformat": 4
 },
 "nbformat": 4,
 "nbformat_minor": 2
}

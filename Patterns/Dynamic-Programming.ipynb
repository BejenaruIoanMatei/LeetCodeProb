{
 "cells": [
  {
   "cell_type": "markdown",
   "metadata": {},
   "source": [
    "When to use it ?\n",
    "\n",
    "Overlapping subproblems and optimal substructure\n",
    "\n",
    "Optimization problems (min/max distance, profit, etc.)\n",
    "\n",
    "Sequence problems (longest increasing subsequence)\n",
    "\n",
    "Combinatorial problems (number of ways to do something)\n",
    "\n",
    "Reduce time complexity from exponential to polynomial"
   ]
  },
  {
   "cell_type": "code",
   "execution_count": null,
   "metadata": {},
   "outputs": [],
   "source": [
    "\"\"\"\n",
    "Top-down recursive Fibonacci without memoization.\n",
    "Time: O(2^N) | Space: O(N)\n",
    "\"\"\"\n",
    "def fib_top_down(n):\n",
    "    if n == 0:\n",
    "        return 0\n",
    "    if n == 1:\n",
    "        return 1\n",
    "    return fib_top_down(n-1) + fib_top_down(n-2)\n",
    "\n",
    "\"\"\"\n",
    "Top-down recursive Fibonacci with memoization.\n",
    "Time: O(N) | Space: O(N)\n",
    "\"\"\"\n",
    "def fib_top_down_memo(n, memo={}):\n",
    "    if n in memo:\n",
    "        return memo[n]\n",
    "    if n == 0:\n",
    "        return 0\n",
    "    if n == 1:\n",
    "        return 1\n",
    "    memo[n] = fib_top_down_memo(n-1, memo) + fib_top_down_memo(n-2, memo)\n",
    "    return memo[n]\n",
    "\n",
    "\"\"\"\n",
    "Bottom-up Fibonacci using an array.\n",
    "Time: O(N) | Space: O(N)\n",
    "\"\"\"\n",
    "def fib_bottom_up_array(n):\n",
    "    dp = [0] * (n + 1)\n",
    "    dp[1] = 1\n",
    "\n",
    "    for i in range(2, n + 1):\n",
    "        dp[i] = dp[i - 1] + dp[i - 2]\n",
    "\n",
    "    return dp[n]\n",
    "\n",
    "\"\"\"\n",
    "Bottom-up Fibonacci using 2 variables.\n",
    "Time: O(N) | Space: O(1)\n",
    "\"\"\"\n",
    "def fib_bottom_up(n):\n",
    "    prev2, prev1 = 0, 1\n",
    "    \n",
    "    for i in range(2, n + 1):\n",
    "        fib = prev2 + prev1\n",
    "        prev2 = prev1\n",
    "        prev1 = fib\n",
    "\n",
    "    return prev1"
   ]
  }
 ],
 "metadata": {
  "language_info": {
   "name": "python"
  },
  "orig_nbformat": 4
 },
 "nbformat": 4,
 "nbformat_minor": 2
}

{
 "cells": [
  {
   "cell_type": "code",
   "execution_count": null,
   "metadata": {},
   "outputs": [],
   "source": [
    "# Preorder : Serialize or deserialize a tree\n",
    "# Inorder : Retrieve elements in sorted order (BSTs)\n",
    "# Postorder : Process children before parent (bottom-up)\n",
    "# BFS : Level by level scanning"
   ]
  },
  {
   "cell_type": "code",
   "execution_count": null,
   "metadata": {},
   "outputs": [],
   "source": [
    "# Templates\n",
    "\n",
    "\"\"\"\n",
    "    Preorder traversal : visit node, then left subtree, then right subtree = RSD\n",
    "\"\"\"\n",
    "def preorder_traversal(node):\n",
    "    if not node:\n",
    "        return \n",
    "    # visit node\n",
    "    preorder_traversal(node.left)\n",
    "    preorder_traversal(node.right)\n",
    "\n",
    "\"\"\"\n",
    "    Inorder traversal : visit left subtree, node, right subtree = SRD\n",
    "\"\"\"\n",
    "\n",
    "def inorder_traversal(node):\n",
    "    if not node:\n",
    "        return \n",
    "    preorder_traversal(node.left)\n",
    "    # visit node\n",
    "    preorder_traversal(node.right)\n",
    "    \n",
    "\"\"\"\n",
    "    Postorder traversal : visit left subtree, right subtree, node = SDR\n",
    "\"\"\"\n",
    "\n",
    "def inorder_traversal(node):\n",
    "    if not node:\n",
    "        return \n",
    "    preorder_traversal(node.left)\n",
    "    preorder_traversal(node.right)\n",
    "    # visit node\n",
    "\n",
    "\"\"\"\n",
    "    BFS traversal: Visit all nodes level by level using a queue\n",
    "\"\"\" \n",
    "\n",
    "from collections import deque\n",
    "def bfs_traversal(root):\n",
    "    queue = deque([root])\n",
    "    while queue:\n",
    "        node = queue.popleft()\n",
    "        if node:\n",
    "            # visit node\n",
    "            queue.append(node.left)\n",
    "            queue.append(node.right)\n",
    "            \n",
    "# deque -> double ended queue"
   ]
  },
  {
   "cell_type": "code",
   "execution_count": 4,
   "metadata": {},
   "outputs": [
    {
     "name": "stdout",
     "output_type": "stream",
     "text": [
      "1\n",
      "2\n",
      "3\n",
      "4\n",
      "5\n",
      "3\n"
     ]
    }
   ],
   "source": [
    "# 104. Maximum Depth of Binary Tree.\n",
    "\n",
    "from collections import deque\n",
    "class TreeNode(object):\n",
    "    def __init__(self, val=0, left=None, right=None):\n",
    "        self.val = val\n",
    "        self.left = left\n",
    "        self.right = right\n",
    "    \n",
    "def maximum_depth_BT(root):\n",
    "    queue = deque([root])\n",
    "    depth = 0\n",
    "    while queue:\n",
    "        level_size = len(queue)\n",
    "        for _ in range(level_size):\n",
    "            node = queue.popleft()\n",
    "            print(node.val)\n",
    "            if node.left:\n",
    "                queue.append(node.left)\n",
    "            if node.right:\n",
    "                queue.append(node.right)\n",
    "        depth += 1\n",
    "        \n",
    "    return depth\n",
    "\n",
    "root = TreeNode(1)\n",
    "root.left = TreeNode(2)\n",
    "root.right = TreeNode(3)\n",
    "root.left.left = TreeNode(4)\n",
    "root.left.right = TreeNode(5)\n",
    "\n",
    "print(maximum_depth_BT(root))"
   ]
  },
  {
   "cell_type": "code",
   "execution_count": 6,
   "metadata": {},
   "outputs": [
    {
     "name": "stdout",
     "output_type": "stream",
     "text": [
      "3\n"
     ]
    }
   ],
   "source": [
    "# alta rezolvare\n",
    "\n",
    "def maximum_depth_BT(root):\n",
    "    if not root:\n",
    "        return 0\n",
    "    lmax = maximum_depth_BT(root.left)\n",
    "    rmax = maximum_depth_BT(root.right)\n",
    "    \n",
    "    return 1 + max(lmax,rmax)\n",
    "\n",
    "\n",
    "root = TreeNode(1)\n",
    "root.left = TreeNode(2)\n",
    "root.right = TreeNode(3)\n",
    "root.left.left = TreeNode(4)\n",
    "root.left.right = TreeNode(5)\n",
    "\n",
    "print(maximum_depth_BT(root))"
   ]
  },
  {
   "cell_type": "code",
   "execution_count": 15,
   "metadata": {},
   "outputs": [
    {
     "name": "stdout",
     "output_type": "stream",
     "text": [
      "[[1], [2, 3], [4, 5]]\n"
     ]
    }
   ],
   "source": [
    "# 102. Binary Tree Level Order Traversal\n",
    "\n",
    "def levelOrder(root):\n",
    "    queue = deque([root])\n",
    "    traversal = []\n",
    "    while queue:\n",
    "        level_size = len(queue)\n",
    "        level = []\n",
    "        for _ in range(level_size):\n",
    "            node = queue.popleft()\n",
    "            level.append(node.val)\n",
    "            if node.left:\n",
    "                queue.append(node.left)\n",
    "            if node.right:\n",
    "                queue.append(node.right)\n",
    "        traversal.append(level)\n",
    "    return traversal\n",
    "\n",
    "root = TreeNode(1)\n",
    "root.left = TreeNode(2)\n",
    "root.right = TreeNode(3)\n",
    "root.left.left = TreeNode(4)\n",
    "root.left.right = TreeNode(5)\n",
    "\n",
    "print(levelOrder(root))"
   ]
  }
 ],
 "metadata": {
  "kernelspec": {
   "display_name": "Python 3",
   "language": "python",
   "name": "python3"
  },
  "language_info": {
   "codemirror_mode": {
    "name": "ipython",
    "version": 3
   },
   "file_extension": ".py",
   "mimetype": "text/x-python",
   "name": "python",
   "nbconvert_exporter": "python",
   "pygments_lexer": "ipython3",
   "version": "3.12.6"
  },
  "orig_nbformat": 4
 },
 "nbformat": 4,
 "nbformat_minor": 2
}

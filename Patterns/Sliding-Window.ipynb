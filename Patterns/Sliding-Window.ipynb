{
 "cells": [
  {
   "cell_type": "code",
   "execution_count": null,
   "metadata": {},
   "outputs": [],
   "source": [
    "# template for max window length\n",
    "\n",
    "def longest_window(nums, condition):\n",
    "    i = 0\n",
    "    max_length = 0\n",
    "    result = None\n",
    "    \n",
    "    for j in range(len(nums)):\n",
    "        # Expand the window\n",
    "        # Add nums[j] to the current window logic\n",
    "        # Shrink the window if the condition is violated\n",
    "        while not condition():\n",
    "            # Shrink the window from the left\n",
    "            # Remove nums[i] from the current window logic\n",
    "            i = i + 1\n",
    "            \n",
    "        # Update the result if the current window is larger \n",
    "        if j - i + 1 > max_length:\n",
    "            max_length = j - i + 1\n",
    "            # Add business logic to update result\n",
    "        \n",
    "    return result\n",
    "        "
   ]
  },
  {
   "cell_type": "code",
   "execution_count": 5,
   "metadata": {},
   "outputs": [
    {
     "name": "stdout",
     "output_type": "stream",
     "text": [
      "3\n"
     ]
    }
   ],
   "source": [
    "#   3 Leetcode\n",
    "\n",
    "# Se da un sir s, trebuie sa gasesc cel mai lung subsir cu caractere distincte\n",
    "\n",
    "# Input : s = \"abcabcbb\"\n",
    "# 3, \"abc\"\n",
    "\n",
    "def SlidingWindow(s):\n",
    "    n = len(s)\n",
    "    i = 0\n",
    "    max_length = 0\n",
    "    seen = set()\n",
    "    \n",
    "    for j in range(n):\n",
    "        while s[j] in seen:\n",
    "            seen.remove(s[i])\n",
    "            i += 1\n",
    "        \n",
    "        seen.add(s[j])\n",
    "        \n",
    "        if j - i + 1 > max_length:\n",
    "            max_length = j - i + 1\n",
    "    \n",
    "    return max_length\n",
    "\n",
    "sir = \"abcabcbb\"\n",
    "print(SlidingWindow(sir))\n",
    "            "
   ]
  },
  {
   "cell_type": "code",
   "execution_count": 10,
   "metadata": {},
   "outputs": [
    {
     "name": "stdout",
     "output_type": "stream",
     "text": [
      "abc\n"
     ]
    }
   ],
   "source": [
    "# window size k \n",
    "\n",
    "def SlidingWindow(s, k):\n",
    "    n = len(s)\n",
    "    i = 0\n",
    "    window = set()\n",
    "    result = \"\"\n",
    "    \n",
    "    for j in range(n):\n",
    "        while s[j] in window:\n",
    "            window.remove(s[i])\n",
    "            i += 1\n",
    "        \n",
    "        window.add(s[j])\n",
    "        \n",
    "        if j - i + 1 == k:\n",
    "            result = s[i:j+1]\n",
    "            break\n",
    "            \n",
    "    \n",
    "    return result\n",
    "\n",
    "sir = \"abcabcbb\"\n",
    "print(SlidingWindow(sir,3))\n"
   ]
  }
 ],
 "metadata": {
  "kernelspec": {
   "display_name": "Python 3",
   "language": "python",
   "name": "python3"
  },
  "language_info": {
   "codemirror_mode": {
    "name": "ipython",
    "version": 3
   },
   "file_extension": ".py",
   "mimetype": "text/x-python",
   "name": "python",
   "nbconvert_exporter": "python",
   "pygments_lexer": "ipython3",
   "version": "3.12.6"
  },
  "orig_nbformat": 4
 },
 "nbformat": 4,
 "nbformat_minor": 2
}

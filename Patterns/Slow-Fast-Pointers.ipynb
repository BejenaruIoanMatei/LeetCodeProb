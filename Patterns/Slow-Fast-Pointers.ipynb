{
 "cells": [
  {
   "cell_type": "code",
   "execution_count": null,
   "metadata": {},
   "outputs": [],
   "source": [
    "# Detect cycle in linked list\n",
    "# Find middle of linked list"
   ]
  },
  {
   "cell_type": "code",
   "execution_count": 1,
   "metadata": {},
   "outputs": [],
   "source": [
    "# Template\n",
    "\n",
    "def slow_fast_pointers(head):\n",
    "    # Initialize pointers \n",
    "    slow = head\n",
    "    fast = head\n",
    "    result = None\n",
    "    \n",
    "    # move slow once, fast twice\n",
    "    while fast and fast.next:\n",
    "        slow = slow.next\n",
    "        fast = fast.next.next\n",
    "        \n",
    "        # update result basesd on custom logic\n",
    "        # Ex : if fast == slow the cycle detected\n",
    "    \n",
    "    return result"
   ]
  },
  {
   "cell_type": "code",
   "execution_count": 15,
   "metadata": {},
   "outputs": [
    {
     "name": "stdout",
     "output_type": "stream",
     "text": [
      "True\n",
      "False\n"
     ]
    }
   ],
   "source": [
    "# 141. Linked List Cycle\n",
    "\n",
    "class ListNode(object):\n",
    "    def __init__(self, x = 0, next = None):\n",
    "        self.val = x\n",
    "        self.next = None\n",
    "\n",
    "\n",
    "def slow_fast_pointers(head):\n",
    "    slow = head\n",
    "    fast = head\n",
    "    \n",
    "    while fast and fast.next:\n",
    "        slow = slow.next\n",
    "        fast = fast.next.next\n",
    "        \n",
    "        if slow == fast:\n",
    "            return True\n",
    "    \n",
    "    return False\n",
    "\n",
    "node1 = ListNode(1)\n",
    "node2 = ListNode(2)\n",
    "node3 = ListNode(3)\n",
    "node4 = ListNode(4)\n",
    "\n",
    "node1.next = node2\n",
    "node2.next = node3\n",
    "node3.next = node4\n",
    "node4.next = node2  \n",
    "\n",
    "print(slow_fast_pointers(node1)) \n",
    "\n",
    "node4.next = None \n",
    "print(slow_fast_pointers(node1)) \n"
   ]
  },
  {
   "cell_type": "code",
   "execution_count": 10,
   "metadata": {},
   "outputs": [
    {
     "name": "stdout",
     "output_type": "stream",
     "text": [
      "[3, 4]\n"
     ]
    }
   ],
   "source": [
    "# 876. Middle of the Linked List\n",
    "\n",
    "# 1 -> 2 -> 3\n",
    "# 1 -> 2 -> 3 -> 4\n",
    "\n",
    "def middle_linked_list(head):\n",
    "    slow = head\n",
    "    fast = head\n",
    "    result = []\n",
    "    \n",
    "    while fast and fast.next:\n",
    "        slow = slow.next\n",
    "        fast = fast.next.next\n",
    "    \n",
    "    # puteam sa fac return slow pentru a returna nodul in sine \n",
    "    \n",
    "    while slow:\n",
    "        result.append(slow.val)\n",
    "        slow = slow.next\n",
    "    \n",
    "    return result\n",
    "\n",
    "node1 = ListNode(1)\n",
    "node2 = ListNode(2)\n",
    "node3 = ListNode(3)\n",
    "node4 = ListNode(4)\n",
    "\n",
    "node1.next = node2\n",
    "node2.next = node3\n",
    "node3.next = node4\n",
    "node4.next = None\n",
    "\n",
    "print(middle_linked_list(node1))"
   ]
  },
  {
   "cell_type": "code",
   "execution_count": null,
   "metadata": {},
   "outputs": [],
   "source": [
    "# 19. Remove Nth Node From End of List\n",
    "\n",
    "def remove_nth(head, n):\n",
    "    aux = ListNode(next=head)\n",
    "    slow = aux\n",
    "    fast = aux\n",
    "    \n",
    "    for _ in range(n):\n",
    "        fast = fast.next\n",
    "    \n",
    "    while fast and fast.next:\n",
    "        slow = slow.next\n",
    "        fast = fast.next\n",
    "    slow.next = slow.next.next\n",
    "\n",
    "    return aux\n",
    "\n",
    "node1 = ListNode(1)\n",
    "node2 = ListNode(2)\n",
    "node3 = ListNode(3)\n",
    "node4 = ListNode(4)\n",
    "\n",
    "node1.next = node2\n",
    "node2.next = node3\n",
    "node3.next = node4\n",
    "node4.next = None\n",
    "\n",
    "print(remove_nth(node1,1))"
   ]
  }
 ],
 "metadata": {
  "kernelspec": {
   "display_name": "Python 3",
   "language": "python",
   "name": "python3"
  },
  "language_info": {
   "codemirror_mode": {
    "name": "ipython",
    "version": 3
   },
   "file_extension": ".py",
   "mimetype": "text/x-python",
   "name": "python",
   "nbconvert_exporter": "python",
   "pygments_lexer": "ipython3",
   "version": "3.12.6"
  },
  "orig_nbformat": 4
 },
 "nbformat": 4,
 "nbformat_minor": 2
}

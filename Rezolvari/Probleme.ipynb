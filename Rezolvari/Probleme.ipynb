{
 "cells": [
  {
   "cell_type": "code",
   "execution_count": null,
   "metadata": {},
   "outputs": [],
   "source": [
    "#21. Merge Two Sorted Lists-linked list.\n",
    "class ListNode(object):\n",
    "     def __init__(self, val=0, next=None):\n",
    "         self.val = val\n",
    "         self.next = next\n",
    "class Solution(object):\n",
    "    def mergeTwoLists(self, list1, list2):\n",
    "        \"\"\"\n",
    "        :type list1: Optional[ListNode]\n",
    "        :type list2: Optional[ListNode]\n",
    "        :rtype: Optional[ListNode]\n",
    "        \"\"\"\n",
    "        dummy = ListNode()\n",
    "        current = dummy\n",
    "        while list1 and list2:\n",
    "            if list1.val <= list2.val:\n",
    "                current.next = list1\n",
    "                list1 = list1.next\n",
    "            else:\n",
    "                current.next = list2\n",
    "                list2 = list2.next\n",
    "            current = current.next\n",
    "        \n",
    "        if list1:\n",
    "            current.next = list1\n",
    "        elif list2:\n",
    "            current.next = list2\n",
    "        \n",
    "        return dummy.next"
   ]
  },
  {
   "cell_type": "code",
   "execution_count": 2,
   "metadata": {},
   "outputs": [
    {
     "name": "stdout",
     "output_type": "stream",
     "text": [
      "12\n"
     ]
    }
   ],
   "source": [
    "#28. Find the Index of the First Occurrence in a String\n",
    "\n",
    "def find(haystack, needle):\n",
    "    for i in range(len(haystack) - len(needle) + 1):\n",
    "        if haystack[i:i+len(needle)] == needle:\n",
    "            return i\n",
    "    return -1\n",
    "\n",
    "haystack = \"i look cool dude\"\n",
    "needle = \"dude\"\n",
    "print(find(haystack,needle))"
   ]
  },
  {
   "cell_type": "code",
   "execution_count": 3,
   "metadata": {},
   "outputs": [
    {
     "name": "stdout",
     "output_type": "stream",
     "text": [
      "4\n"
     ]
    }
   ],
   "source": [
    "#35. Search Insert Position\n",
    "\n",
    "# 1 2 3 4\n",
    "# 5\n",
    "\n",
    "def searchIndex(nums, target):\n",
    "    left = 0 \n",
    "    right = len(nums) - 1\n",
    "    \n",
    "    while left <= right:\n",
    "        mid = left + (right - left) // 2\n",
    "        if nums[mid] == target:\n",
    "            return mid\n",
    "        elif nums[mid] < target:\n",
    "            left = mid + 1\n",
    "        else: \n",
    "            right = mid - 1\n",
    "    return left\n",
    "\n",
    "nums = [1, 2, 3, 4]\n",
    "target = 5\n",
    "print(searchIndex(nums, target))"
   ]
  },
  {
   "cell_type": "code",
   "execution_count": 8,
   "metadata": {},
   "outputs": [
    {
     "name": "stdout",
     "output_type": "stream",
     "text": [
      "4\n"
     ]
    }
   ],
   "source": [
    "#58. Length of Last Word\n",
    "\n",
    "def lenghtLast(s):\n",
    "    words = s.strip().split()\n",
    "    return len(words[-1]) if words else 0\n",
    "\n",
    "s = \"ana   are  mere \"\n",
    "print(lenghtLast(s))"
   ]
  },
  {
   "cell_type": "code",
   "execution_count": 43,
   "metadata": {},
   "outputs": [
    {
     "name": "stdout",
     "output_type": "stream",
     "text": [
      "[1, 0, 0, 0]\n"
     ]
    }
   ],
   "source": [
    "#66. Plus One\n",
    "\n",
    "# [1,9] -> [2,0]\n",
    "# [1, 9, 9, 9, 9] -> [2, 0, 0 ,...]\n",
    "# [0] -> [1]\n",
    "# [9,9] -> [1,0,0]\n",
    "from collections import deque\n",
    "def plusOne(digits):\n",
    "    \n",
    "    n = len(digits)\n",
    "    for i in range(n - 1, -1, -1):\n",
    "        if digits[i] < 9:\n",
    "            digits[i] += 1\n",
    "            return digits\n",
    "        digits[i] = 0\n",
    "    return [1] + digits\n",
    "        \n",
    "\n",
    "digits = [9,9,9]\n",
    "print(plusOne(digits))"
   ]
  },
  {
   "cell_type": "code",
   "execution_count": 50,
   "metadata": {},
   "outputs": [
    {
     "name": "stdout",
     "output_type": "stream",
     "text": [
      "110\n"
     ]
    }
   ],
   "source": [
    "#67. Add Binary\n",
    "\n",
    "# 101 + 011 = 1000\n",
    "# 5 + 3 = 8\n",
    "\n",
    "def addBinary(a, b):\n",
    "    m = len(a) # 0\n",
    "    n = len(b) # 100\n",
    "    \n",
    "    if (m > n):\n",
    "        for _ in range(m-n):\n",
    "            b = \"0\" + b\n",
    "    else:\n",
    "        for _ in range(n-m):\n",
    "            a = \"0\" + a\n",
    "    \n",
    "    lung = len(a)\n",
    "    res = \"\"\n",
    "    carry = 0\n",
    "    \n",
    "    for i in range(lung - 1, -1 , -1):\n",
    "        bit_a = int(a[i])\n",
    "        bit_b = int(b[i])\n",
    "        \n",
    "        suma = bit_a + bit_b + carry\n",
    "        res = str(suma % 2) + res\n",
    "        carry = suma // 2\n",
    "    \n",
    "    if carry:\n",
    "        res = \"1\" + res\n",
    "    \n",
    "    return res\n",
    "            \n",
    "\n",
    "a = \"11\"\n",
    "b = \"11\"\n",
    "\n",
    "print(addBinary(a,b))\n",
    "        "
   ]
  },
  {
   "cell_type": "code",
   "execution_count": 52,
   "metadata": {},
   "outputs": [
    {
     "name": "stdout",
     "output_type": "stream",
     "text": [
      "3\n"
     ]
    }
   ],
   "source": [
    "# 69. Sqrt(x)\n",
    "\n",
    "# 4 -> 2\n",
    "# 5 -> 2\n",
    "# 6 -> 2\n",
    "# .. \n",
    "# 26 -> 5\n",
    "# 35 -> 5\n",
    "\n",
    "# 1 2 3 4 5 6\n",
    "\n",
    "def findSqrt(x):\n",
    "    if x == 0 or x == 1:\n",
    "        return x\n",
    "    \n",
    "    left = 1\n",
    "    right = x\n",
    "    \n",
    "    while left <= right:\n",
    "        mid = left + (right - left) // 2\n",
    "        if mid * mid == x:\n",
    "            return mid\n",
    "        elif mid * mid > x:\n",
    "            right = mid - 1\n",
    "        else:\n",
    "            left = mid + 1\n",
    "    return right\n",
    "\n",
    "x = 10\n",
    "print(findSqrt(x))\n",
    "        "
   ]
  },
  {
   "cell_type": "code",
   "execution_count": 55,
   "metadata": {},
   "outputs": [
    {
     "name": "stdout",
     "output_type": "stream",
     "text": [
      "3\n"
     ]
    }
   ],
   "source": [
    "# 70. Climbing Stairs\n",
    "\n",
    "# n = 2\n",
    "# (1,1) sau (2)\n",
    "\n",
    "# n = 3\n",
    "# (1,1,1) sau (2, 1) sau (1, 2)\n",
    "\n",
    "# n = 4\n",
    "# (1,1,1,1) sau (1,1,1,2) sau (1,1,2,1)\n",
    "\n",
    "def climbingStairs(n):\n",
    "    if n == 1:\n",
    "        return 1\n",
    "    if n == 2:\n",
    "        return 2\n",
    "    \n",
    "    return climbingStairs(n - 1) + climbingStairs(n - 2)\n",
    "    \n",
    "\n",
    "n = 3\n",
    "print(climbingStairs(n))"
   ]
  },
  {
   "cell_type": "code",
   "execution_count": null,
   "metadata": {},
   "outputs": [],
   "source": [
    "#83. Remove Duplicates from Sorted List\n",
    "\n",
    "#[1,1,2,3,3] -> [1, 2, 3]\n",
    "\n",
    "def removeDuplicates(head):\n",
    "    curr = head\n",
    "    \n",
    "    while curr and curr.next:\n",
    "        if curr.val == curr.next.val:\n",
    "            curr.next = curr.next.next\n",
    "        else:\n",
    "            curr = curr.next\n",
    "    \n",
    "    return head"
   ]
  }
 ],
 "metadata": {
  "kernelspec": {
   "display_name": "Python 3",
   "language": "python",
   "name": "python3"
  },
  "language_info": {
   "codemirror_mode": {
    "name": "ipython",
    "version": 3
   },
   "file_extension": ".py",
   "mimetype": "text/x-python",
   "name": "python",
   "nbconvert_exporter": "python",
   "pygments_lexer": "ipython3",
   "version": "3.12.6"
  },
  "orig_nbformat": 4
 },
 "nbformat": 4,
 "nbformat_minor": 2
}
